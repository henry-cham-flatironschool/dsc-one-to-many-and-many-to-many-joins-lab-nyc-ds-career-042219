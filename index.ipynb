{
 "cells": [
  {
   "cell_type": "markdown",
   "metadata": {},
   "source": [
    "# One-to-Many and Many-to-Many Joins - Lab"
   ]
  },
  {
   "cell_type": "markdown",
   "metadata": {},
   "source": [
    "## Introduction"
   ]
  },
  {
   "cell_type": "markdown",
   "metadata": {},
   "source": [
    "In this lab, you'll practice your knowledge on one-to-many and many-to-many relationships!"
   ]
  },
  {
   "cell_type": "markdown",
   "metadata": {},
   "source": [
    "## Objectives"
   ]
  },
  {
   "cell_type": "markdown",
   "metadata": {},
   "source": [
    "You will be able to:\n",
    "- Query data using one-to-many and many-to-many joins\n",
    "- Predict the resulting size of one-to-many and many-to-many joins"
   ]
  },
  {
   "cell_type": "markdown",
   "metadata": {},
   "source": [
    "## One-to-Many and Many-to-Many Joins\n",
    "<img src='images/Database-Schema.png' width=\"600\">"
   ]
  },
  {
   "cell_type": "markdown",
   "metadata": {},
   "source": [
    "## Connect to the Database"
   ]
  },
  {
   "cell_type": "code",
   "execution_count": 19,
   "metadata": {},
   "outputs": [],
   "source": [
    "#Your code here\n",
    "import pandas as pd\n",
    "import sqlite3\n",
    "\n",
    "conn = sqlite3.connect('data.sqlite')\n",
    "\n",
    "c = conn.cursor()"
   ]
  },
  {
   "cell_type": "markdown",
   "metadata": {},
   "source": [
    "## Employees and their Office (a One-to-One join)\n",
    "\n",
    "Return a list of all of the employees with their first name, last name and the city and state of the office that they work out of (if they have one). Include all employees and order them by their first name, then their last name."
   ]
  },
  {
   "cell_type": "code",
   "execution_count": 9,
   "metadata": {},
   "outputs": [
    {
     "data": {
      "text/plain": [
       "[('Diane', 'Murphy', 'San Francisco', 'CA'),\n",
       " ('Mary', 'Patterson', 'San Francisco', 'CA'),\n",
       " ('Jeff', 'Firrelli', 'San Francisco', 'CA'),\n",
       " ('William', 'Patterson', 'Sydney', ''),\n",
       " ('Gerard', 'Bondur', 'Paris', ''),\n",
       " ('Anthony', 'Bow', 'San Francisco', 'CA'),\n",
       " ('Leslie', 'Jennings', 'San Francisco', 'CA'),\n",
       " ('Leslie', 'Thompson', 'San Francisco', 'CA'),\n",
       " ('Julie', 'Firrelli', 'Boston', 'MA'),\n",
       " ('Steve', 'Patterson', 'Boston', 'MA')]"
      ]
     },
     "execution_count": 9,
     "metadata": {},
     "output_type": "execute_result"
    }
   ],
   "source": [
    "#Your code here\n",
    "query = ('SELECT E.firstName,E.lastName,O.city,O.state '\n",
    "         'FROM employees E '\n",
    "         'LEFT JOIN offices O '\n",
    "         'ON E.officeCode = O.officeCode')\n",
    "        \n",
    "c.execute(query)\n",
    "c.fetchmany(10)"
   ]
  },
  {
   "cell_type": "markdown",
   "metadata": {},
   "source": [
    "## Customers and their Orders (a One-to-Many join)\n",
    "\n",
    "Return a list of all the customers first and last names along with a record for each of their order numbers, order dates and statuses."
   ]
  },
  {
   "cell_type": "code",
   "execution_count": 12,
   "metadata": {},
   "outputs": [
    {
     "data": {
      "text/plain": [
       "[('Carine ', 'Schmitt', '2003-05-20', 'Shipped'),\n",
       " ('Carine ', 'Schmitt', '2004-09-27', 'Shipped'),\n",
       " ('Carine ', 'Schmitt', '2004-11-25', 'Shipped'),\n",
       " ('Jean', 'King', '2003-05-21', 'Shipped'),\n",
       " ('Jean', 'King', '2004-08-06', 'Shipped'),\n",
       " ('Jean', 'King', '2004-11-29', 'Shipped'),\n",
       " ('Peter', 'Ferguson', '2003-04-29', 'Shipped'),\n",
       " ('Peter', 'Ferguson', '2003-05-21', 'Shipped'),\n",
       " ('Peter', 'Ferguson', '2004-02-20', 'Shipped'),\n",
       " ('Peter', 'Ferguson', '2004-11-24', 'Shipped')]"
      ]
     },
     "execution_count": 12,
     "metadata": {},
     "output_type": "execute_result"
    }
   ],
   "source": [
    "#Your code here\n",
    "query = ('SELECT C.contactFirstName,C.contactLastName,O.orderDate,O.status '\n",
    "         'FROM customers C '\n",
    "         'LEFT JOIN orders O '\n",
    "         'ON C.customerNumber = O.customerNumber')\n",
    "        \n",
    "c.execute(query)\n",
    "c.fetchmany(10)"
   ]
  },
  {
   "cell_type": "markdown",
   "metadata": {},
   "source": [
    "## Customers and their Payments (another One-to-Many join)\n",
    "\n",
    "Return a list of customers first and last names along with details about their payments including the amount and date of payments. Sort these results in descending order by the payment amount."
   ]
  },
  {
   "cell_type": "code",
   "execution_count": 13,
   "metadata": {},
   "outputs": [
    {
     "data": {
      "text/plain": [
       "[('Carine ', 'Schmitt', '2003-06-05', '14571.44'),\n",
       " ('Carine ', 'Schmitt', '2004-10-19', '6066.78'),\n",
       " ('Carine ', 'Schmitt', '2004-12-18', '1676.14'),\n",
       " ('Jean', 'King', '2003-06-06', '32641.98'),\n",
       " ('Jean', 'King', '2004-08-20', '33347.88'),\n",
       " ('Jean', 'King', '2004-12-17', '14191.12'),\n",
       " ('Peter', 'Ferguson', '2003-05-20', '45864.03'),\n",
       " ('Peter', 'Ferguson', '2003-05-31', '7565.08'),\n",
       " ('Peter', 'Ferguson', '2004-03-10', '44894.74'),\n",
       " ('Peter', 'Ferguson', '2004-12-15', '82261.22')]"
      ]
     },
     "execution_count": 13,
     "metadata": {},
     "output_type": "execute_result"
    }
   ],
   "source": [
    "#Your code here\n",
    "query = ('SELECT C.contactFirstName,C.contactLastName,P.paymentDate,P.amount '\n",
    "         'FROM customers C '\n",
    "         'ON C.customerNumber = P.customerNumber'\n",
    "         'LEFT JOIN payments P '\n",
    "         'ON C.customerNumber = P.customerNumber')\n",
    "        \n",
    "c.execute(query)\n",
    "c.fetchmany(10)"
   ]
  },
  {
   "cell_type": "markdown",
   "metadata": {},
   "source": [
    "## Orders, Order details and Product Details (a Many-to-Many Join)"
   ]
  },
  {
   "cell_type": "markdown",
   "metadata": {},
   "source": [
    "Return a list of customer first and last names, product names, quantities, and date ordered for each of the customers and each of their orders. Sort these in descending order by the order date.\n",
    "\n",
    "Note: This will require joining 4 tables! This can be tricky! Give it a shot, and if you're still stuck, turn to the next section where you'll see how to write subqueries which can make complex queries such as this much simpler!"
   ]
  },
  {
   "cell_type": "code",
   "execution_count": 25,
   "metadata": {},
   "outputs": [
    {
     "name": "stdout",
     "output_type": "stream",
     "text": [
      "Number of results 2996\n",
      "(2996, 5)\n"
     ]
    },
    {
     "data": {
      "text/html": [
       "<div>\n",
       "<style scoped>\n",
       "    .dataframe tbody tr th:only-of-type {\n",
       "        vertical-align: middle;\n",
       "    }\n",
       "\n",
       "    .dataframe tbody tr th {\n",
       "        vertical-align: top;\n",
       "    }\n",
       "\n",
       "    .dataframe thead th {\n",
       "        text-align: right;\n",
       "    }\n",
       "</style>\n",
       "<table border=\"1\" class=\"dataframe\">\n",
       "  <thead>\n",
       "    <tr style=\"text-align: right;\">\n",
       "      <th></th>\n",
       "      <th>contactFirstName</th>\n",
       "      <th>contactLastName</th>\n",
       "      <th>productName</th>\n",
       "      <th>quantityOrdered</th>\n",
       "      <th>orderDate</th>\n",
       "    </tr>\n",
       "  </thead>\n",
       "  <tbody>\n",
       "    <tr>\n",
       "      <th>0</th>\n",
       "      <td>Janine</td>\n",
       "      <td>Labrune</td>\n",
       "      <td>1962 LanciaA Delta 16V</td>\n",
       "      <td>38</td>\n",
       "      <td>2005-05-31</td>\n",
       "    </tr>\n",
       "    <tr>\n",
       "      <th>1</th>\n",
       "      <td>Janine</td>\n",
       "      <td>Labrune</td>\n",
       "      <td>1957 Chevy Pickup</td>\n",
       "      <td>33</td>\n",
       "      <td>2005-05-31</td>\n",
       "    </tr>\n",
       "    <tr>\n",
       "      <th>2</th>\n",
       "      <td>Janine</td>\n",
       "      <td>Labrune</td>\n",
       "      <td>1998 Chrysler Plymouth Prowler</td>\n",
       "      <td>28</td>\n",
       "      <td>2005-05-31</td>\n",
       "    </tr>\n",
       "    <tr>\n",
       "      <th>3</th>\n",
       "      <td>Janine</td>\n",
       "      <td>Labrune</td>\n",
       "      <td>1964 Mercedes Tour Bus</td>\n",
       "      <td>38</td>\n",
       "      <td>2005-05-31</td>\n",
       "    </tr>\n",
       "    <tr>\n",
       "      <th>4</th>\n",
       "      <td>Janine</td>\n",
       "      <td>Labrune</td>\n",
       "      <td>1926 Ford Fire Engine</td>\n",
       "      <td>19</td>\n",
       "      <td>2005-05-31</td>\n",
       "    </tr>\n",
       "  </tbody>\n",
       "</table>\n",
       "</div>"
      ],
      "text/plain": [
       "  contactFirstName contactLastName                     productName  \\\n",
       "0          Janine          Labrune          1962 LanciaA Delta 16V   \n",
       "1          Janine          Labrune               1957 Chevy Pickup   \n",
       "2          Janine          Labrune  1998 Chrysler Plymouth Prowler   \n",
       "3          Janine          Labrune          1964 Mercedes Tour Bus   \n",
       "4          Janine          Labrune           1926 Ford Fire Engine   \n",
       "\n",
       "  quantityOrdered   orderDate  \n",
       "0              38  2005-05-31  \n",
       "1              33  2005-05-31  \n",
       "2              28  2005-05-31  \n",
       "3              38  2005-05-31  \n",
       "4              19  2005-05-31  "
      ]
     },
     "execution_count": 25,
     "metadata": {},
     "output_type": "execute_result"
    }
   ],
   "source": [
    "#Your code here\n",
    "query = ('SELECT C.contactFirstName,C.contactLastName,P.productName,OD.quantityOrdered,O.orderDate '\n",
    "         'FROM customers C '\n",
    "         'JOIN orders O '\n",
    "         'ON C.customerNumber = O.customerNumber '\n",
    "         'JOIN orderdetails OD '\n",
    "         'ON O.orderNumber = OD.orderNumber '\n",
    "         'JOIN products P '\n",
    "         'ON OD.productCode = P.productCode '\n",
    "         'ORDER BY O.orderDate DESC')\n",
    "        \n",
    "c.execute(query)\n",
    "\n",
    "df = pd.DataFrame(c.fetchall())\n",
    "df.columns = [x[0] for x in c.description]\n",
    "print('Number of results', len(df))\n",
    "print(df.shape)\n",
    "df.head()\n"
   ]
  },
  {
   "cell_type": "markdown",
   "metadata": {},
   "source": [
    "## Summary"
   ]
  },
  {
   "cell_type": "markdown",
   "metadata": {},
   "source": [
    "In this lab, you practiced your knowledge on one-to-many and many-to-many relationships!"
   ]
  }
 ],
 "metadata": {
  "kernelspec": {
   "display_name": "Python 3",
   "language": "python",
   "name": "python3"
  },
  "language_info": {
   "codemirror_mode": {
    "name": "ipython",
    "version": 3
   },
   "file_extension": ".py",
   "mimetype": "text/x-python",
   "name": "python",
   "nbconvert_exporter": "python",
   "pygments_lexer": "ipython3",
   "version": "3.6.6"
  }
 },
 "nbformat": 4,
 "nbformat_minor": 2
}
